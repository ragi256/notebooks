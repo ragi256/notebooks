{
 "cells": [
  {
   "cell_type": "markdown",
   "metadata": {},
   "source": [
    "# ニューラルネットワークの学習"
   ]
  },
  {
   "cell_type": "markdown",
   "metadata": {},
   "source": [
    "## 損失関数"
   ]
  },
  {
   "cell_type": "markdown",
   "metadata": {},
   "source": [
    "### 2乗誤差"
   ]
  },
  {
   "cell_type": "code",
   "execution_count": 8,
   "metadata": {},
   "outputs": [
    {
     "data": {
      "text/plain": [
       "mean_squared_error (generic function with 1 method)"
      ]
     },
     "execution_count": 8,
     "metadata": {},
     "output_type": "execute_result"
    }
   ],
   "source": [
    "function mean_squared_error(y, t)\n",
    "    .5 * sum((y-t).^2)\n",
    "end"
   ]
  },
  {
   "cell_type": "code",
   "execution_count": 9,
   "metadata": {
    "scrolled": true
   },
   "outputs": [
    {
     "data": {
      "text/plain": [
       "0.09750000000000003"
      ]
     },
     "execution_count": 9,
     "metadata": {},
     "output_type": "execute_result"
    }
   ],
   "source": [
    "y = [.1 .05 .6 .0 .05 .1 .0 .1 .0 .0]\n",
    "t = [0 0 1 0 0 0 0 0 0 0]\n",
    "mean_squared_error(y, t)"
   ]
  },
  {
   "cell_type": "code",
   "execution_count": 10,
   "metadata": {},
   "outputs": [
    {
     "data": {
      "text/plain": [
       "0.5974999999999999"
      ]
     },
     "execution_count": 10,
     "metadata": {},
     "output_type": "execute_result"
    }
   ],
   "source": [
    "y = [.1 .05 .1 .0 .05 .1 .0 .6 .0 .0]\n",
    "mean_squared_error(y, t)"
   ]
  },
  {
   "cell_type": "markdown",
   "metadata": {},
   "source": [
    "### 交差エントロピー誤差"
   ]
  },
  {
   "cell_type": "code",
   "execution_count": 11,
   "metadata": {},
   "outputs": [
    {
     "data": {
      "text/plain": [
       "cross_entropy_error (generic function with 1 method)"
      ]
     },
     "execution_count": 11,
     "metadata": {},
     "output_type": "execute_result"
    }
   ],
   "source": [
    "function cross_entropy_error(y, t)\n",
    "    delta = 1e-7\n",
    "    -sum(t.*log.(y+delta))\n",
    "end"
   ]
  },
  {
   "cell_type": "code",
   "execution_count": 12,
   "metadata": {},
   "outputs": [
    {
     "data": {
      "text/plain": [
       "0.510825457099338"
      ]
     },
     "execution_count": 12,
     "metadata": {},
     "output_type": "execute_result"
    }
   ],
   "source": [
    "y = [.1 .05 .6 .0 .05 .1 .0 .1 .0 .0]\n",
    "t = [0 0 1 0 0 0 0 0 0 0]\n",
    "cross_entropy_error(y, t)"
   ]
  },
  {
   "cell_type": "code",
   "execution_count": 13,
   "metadata": {},
   "outputs": [
    {
     "data": {
      "text/plain": [
       "2.302584092994546"
      ]
     },
     "execution_count": 13,
     "metadata": {},
     "output_type": "execute_result"
    }
   ],
   "source": [
    "y = [.1 .05 .1 .0 .05 .1 .0 .6 .0 .0]\n",
    "cross_entropy_error(y, t)"
   ]
  },
  {
   "cell_type": "markdown",
   "metadata": {},
   "source": [
    "### ミニバッチ学習"
   ]
  },
  {
   "cell_type": "code",
   "execution_count": 1,
   "metadata": {
    "scrolled": false
   },
   "outputs": [
    {
     "data": {
      "text/plain": [
       "([0.0 0.0 … 0.0 0.0; 0.0 0.0 … 0.0 0.0; … ; 0.0 0.0 … 0.0 0.0; 0.0 0.0 … 0.0 0.0]\n",
       "\n",
       "[0.0 0.0 … 0.0 0.0; 0.0 0.0 … 0.0 0.0; … ; 0.0 0.0 … 0.0 0.0; 0.0 0.0 … 0.0 0.0]\n",
       "\n",
       "[0.0 0.0 … 0.0 0.0; 0.0 0.0 … 0.0 0.0; … ; 0.0 0.0 … 0.0 0.0; 0.0 0.0 … 0.0 0.0]\n",
       "\n",
       "...\n",
       "\n",
       "[0.0 0.0 … 0.0 0.0; 0.0 0.0 … 0.0 0.0; … ; 0.0 0.0 … 0.0 0.0; 0.0 0.0 … 0.0 0.0]\n",
       "\n",
       "[0.0 0.0 … 0.0 0.0; 0.0 0.0 … 0.0 0.0; … ; 0.0 0.0 … 0.0 0.0; 0.0 0.0 … 0.0 0.0]\n",
       "\n",
       "[0.0 0.0 … 0.0 0.0; 0.0 0.0 … 0.0 0.0; … ; 0.0 0.0 … 0.0 0.0; 0.0 0.0 … 0.0 0.0], [7, 2, 1, 0, 4, 1, 4, 9, 5, 9  …  7, 8, 9, 0, 1, 2, 3, 4, 5, 6])"
      ]
     },
     "execution_count": 1,
     "metadata": {},
     "output_type": "execute_result"
    }
   ],
   "source": [
    "using MLDatasets\n",
    "x_train, y_train = MNIST.traindata()\n",
    "x_test, y_test = MNIST.testdata()"
   ]
  },
  {
   "cell_type": "code",
   "execution_count": 66,
   "metadata": {
    "scrolled": true
   },
   "outputs": [
    {
     "data": {
      "text/plain": [
       "10-element Array{Int64,1}:\n",
       " 2\n",
       " 0\n",
       " 9\n",
       " 2\n",
       " 4\n",
       " 5\n",
       " 3\n",
       " 4\n",
       " 1\n",
       " 0"
      ]
     },
     "execution_count": 66,
     "metadata": {},
     "output_type": "execute_result"
    }
   ],
   "source": [
    "using StatsBase\n",
    "train_size = size(x_train)[3]\n",
    "batch_size = 10\n",
    "batch_mask = sample(1:train_size, batch_size, replace=false)\n",
    "x_batch = x_train[batch_mask]\n",
    "y_batch = y_train[batch_mask]"
   ]
  },
  {
   "cell_type": "code",
   "execution_count": 102,
   "metadata": {
    "scrolled": true
   },
   "outputs": [
    {
     "data": {
      "text/plain": [
       "cross_entropy_error (generic function with 1 method)"
      ]
     },
     "execution_count": 102,
     "metadata": {},
     "output_type": "execute_result"
    }
   ],
   "source": [
    "function cross_entropy_error(y, t) # one-hot vector\n",
    "    if ndims(y) == 0\n",
    "        t = reshape(t, 1, length(t))\n",
    "        y = reshpae(y, 1, length(y))\n",
    "    end\n",
    "    batch_size = size(y)[end]\n",
    "    -sum(t.*log.(y))/batch_size\n",
    "end\n",
    "\n",
    "function cross_entropy_error(y, t) # not one-hot vector\n",
    "    if ndims(y) == 0\n",
    "        t = reshape(t, 1, length(t))\n",
    "        y = reshpae(y, 1, length(y))\n",
    "    end\n",
    "    batch_size = size(y)[end]\n",
    "    -sum(log.(y[1:batch_size, t])) / batch_size\n",
    "end"
   ]
  },
  {
   "cell_type": "markdown",
   "metadata": {},
   "source": [
    "## 数値微分"
   ]
  },
  {
   "cell_type": "code",
   "execution_count": 73,
   "metadata": {},
   "outputs": [
    {
     "data": {
      "text/plain": [
       "numerical_diff (generic function with 1 method)"
      ]
     },
     "execution_count": 73,
     "metadata": {},
     "output_type": "execute_result"
    }
   ],
   "source": [
    "function numerical_diff(f, x) # bad\n",
    "    h = 10e-50\n",
    "    (f(x_h) - f(x)) / h\n",
    "end\n",
    "\n",
    "function numerical_diff(f, x) # better\n",
    "    h = 1e-4\n",
    "    (f(x+h) - f(x-h)) / (2*h)\n",
    "end"
   ]
  },
  {
   "cell_type": "code",
   "execution_count": 75,
   "metadata": {},
   "outputs": [
    {
     "data": {
      "image/png": "[encoded data removed]",
      "text/plain": [
       "PyPlot.Figure(PyObject <matplotlib.figure.Figure object at 0x1484d6518>)"
      ]
     },
     "metadata": {},
     "output_type": "display_data"
    },
    {
     "data": {
      "text/plain": [
       "1-element Array{Any,1}:\n",
       " PyObject <matplotlib.lines.Line2D object at 0x149d3b518>"
      ]
     },
     "execution_count": 75,
     "metadata": {},
     "output_type": "execute_result"
    }
   ],
   "source": [
    "using PyPlot\n",
    "\n",
    "function function_1(x)\n",
    "    0.01.*x.^2 + 0.1.*x\n",
    "end\n",
    "\n",
    "x = 0:0.1:20\n",
    "y = function_1(x)\n",
    "plot(x, y)"
   ]
  },
  {
   "cell_type": "code",
   "execution_count": 76,
   "metadata": {},
   "outputs": [
    {
     "name": "stdout",
     "output_type": "stream",
     "text": [
      "0.1999999999990898\n",
      "0.2999999999986347\n"
     ]
    }
   ],
   "source": [
    "println(numerical_diff(function_1, 5))\n",
    "println(numerical_diff(function_1, 10))"
   ]
  },
  {
   "cell_type": "code",
   "execution_count": 77,
   "metadata": {},
   "outputs": [
    {
     "data": {
      "text/plain": [
       "function_2 (generic function with 1 method)"
      ]
     },
     "execution_count": 77,
     "metadata": {},
     "output_type": "execute_result"
    }
   ],
   "source": [
    "function function_2(x)\n",
    "    sum(x.^2)\n",
    "end"
   ]
  },
  {
   "cell_type": "code",
   "execution_count": 78,
   "metadata": {},
   "outputs": [
    {
     "data": {
      "text/plain": [
       "6.00000000000378"
      ]
     },
     "execution_count": 78,
     "metadata": {},
     "output_type": "execute_result"
    }
   ],
   "source": [
    "function function_tmp1(x0)\n",
    "    x0*x0 + 4^2\n",
    "end\n",
    "numerical_diff(function_tmp1, 3.0)"
   ]
  },
  {
   "cell_type": "code",
   "execution_count": 79,
   "metadata": {},
   "outputs": [
    {
     "data": {
      "text/plain": [
       "7.999999999999119"
      ]
     },
     "execution_count": 79,
     "metadata": {},
     "output_type": "execute_result"
    }
   ],
   "source": [
    "function function_tmp2(x1)\n",
    "    3^2 + x1*x1\n",
    "end\n",
    "numerical_diff(function_tmp2, 4.0)"
   ]
  },
  {
   "cell_type": "markdown",
   "metadata": {},
   "source": [
    "## 勾配"
   ]
  },
  {
   "cell_type": "code",
   "execution_count": 10,
   "metadata": {},
   "outputs": [
    {
     "data": {
      "text/plain": [
       "numerical_gradient (generic function with 1 method)"
      ]
     },
     "execution_count": 10,
     "metadata": {},
     "output_type": "execute_result"
    }
   ],
   "source": [
    "function numerical_gradient(f, x)\n",
    "    h = 1e-4\n",
    "    grad = zeros(size(x))\n",
    "    for idx in 1:length(x)\n",
    "        tmp_val = x[idx]\n",
    "        \n",
    "        x[idx] = tmp_val + h\n",
    "        fxh1 = f(x)        \n",
    "        x[idx] = tmp_val - h\n",
    "        fxh2 = f(x)\n",
    "        \n",
    "        grad[idx] = (fxh1 - fxh2) / (2*h)\n",
    "        x[idx] = tmp_val\n",
    "    end\n",
    "    grad\n",
    "end"
   ]
  },
  {
   "cell_type": "code",
   "execution_count": 85,
   "metadata": {
    "scrolled": true
   },
   "outputs": [
    {
     "name": "stdout",
     "output_type": "stream",
     "text": [
      "[6.0 8.0]\n",
      "[0.0 4.0]\n",
      "[6.0 0.0]\n"
     ]
    }
   ],
   "source": [
    "println(numerical_gradient(function_2, [3. 4.]))\n",
    "println(numerical_gradient(function_2, [0. 2.]))\n",
    "println(numerical_gradient(function_2, [3. 0.]))"
   ]
  },
  {
   "cell_type": "code",
   "execution_count": 228,
   "metadata": {},
   "outputs": [
    {
     "data": {
      "text/plain": [
       "gradient_descent (generic function with 1 method)"
      ]
     },
     "execution_count": 228,
     "metadata": {},
     "output_type": "execute_result"
    }
   ],
   "source": [
    "function gradient_descent(f, init_x; lr=0.01, step_num=100)\n",
    "    x = init_x\n",
    "    for i in 1:step_num\n",
    "        grad = numerical_gradient(f, x)\n",
    "        x -= lr * grad        \n",
    "    end\n",
    "    x\n",
    "end"
   ]
  },
  {
   "cell_type": "code",
   "execution_count": 94,
   "metadata": {},
   "outputs": [
    {
     "data": {
      "text/plain": [
       "1×2 Array{Float64,2}:\n",
       " -6.11111e-10  8.14814e-10"
      ]
     },
     "execution_count": 94,
     "metadata": {},
     "output_type": "execute_result"
    }
   ],
   "source": [
    "function function_2(x)\n",
    "    sum(x.^2)\n",
    "end\n",
    "\n",
    "init_x = [-3. 4.]\n",
    "gradient_descent(function_2, init_x, lr=0.1, step_num=100)"
   ]
  },
  {
   "cell_type": "code",
   "execution_count": 95,
   "metadata": {
    "scrolled": true
   },
   "outputs": [
    {
     "data": {
      "text/plain": [
       "1×2 Array{Float64,2}:\n",
       " -2.58984e13  -1.29525e12"
      ]
     },
     "execution_count": 95,
     "metadata": {},
     "output_type": "execute_result"
    }
   ],
   "source": [
    "gradient_descent(function_2, init_x, lr=10, step_num=100)"
   ]
  },
  {
   "cell_type": "code",
   "execution_count": 96,
   "metadata": {
    "scrolled": true
   },
   "outputs": [
    {
     "data": {
      "text/plain": [
       "1×2 Array{Float64,2}:\n",
       " -3.0  4.0"
      ]
     },
     "execution_count": 96,
     "metadata": {},
     "output_type": "execute_result"
    }
   ],
   "source": [
    "gradient_descent(function_2, init_x, lr=1e-10, step_num=100)"
   ]
  },
  {
   "cell_type": "markdown",
   "metadata": {},
   "source": [
    "### ニューラルネットワークに対する勾配"
   ]
  },
  {
   "cell_type": "code",
   "execution_count": 3,
   "metadata": {},
   "outputs": [
    {
     "data": {
      "text/plain": [
       "cross_entropy_error (generic function with 1 method)"
      ]
     },
     "execution_count": 3,
     "metadata": {},
     "output_type": "execute_result"
    }
   ],
   "source": [
    "function sigmoid(x)\n",
    "    1 ./ (1 .+ exp.(-x))\n",
    "end\n",
    "\n",
    "function softmax(a)\n",
    "    exp_a = exp.(a)\n",
    "    sum_exp_a = sum(exp_a)\n",
    "    y = exp_a / sum_exp_a\n",
    "    y\n",
    "end\n",
    "\n",
    "function cross_entropy_error(y, t) # one-hot vector\n",
    "    if ndims(y) == 0\n",
    "        t = reshape(t, 1, length(t))\n",
    "        y = reshpae(y, 1, length(y))\n",
    "    end\n",
    "    batch_size = size(y)[end]\n",
    "    -sum(t.*log.(y))/batch_size\n",
    "end"
   ]
  },
  {
   "cell_type": "code",
   "execution_count": 199,
   "metadata": {
    "scrolled": true
   },
   "outputs": [],
   "source": [
    "type SimpleNet\n",
    "    W::Array{Float64}\n",
    "    predict::Function\n",
    "    loss::Function\n",
    "\n",
    "    function SimpleNet()\n",
    "        \n",
    "        W = randn(2, 3)\n",
    "        \n",
    "        predict = function (x)\n",
    "            W'*x\n",
    "        end\n",
    "\n",
    "        loss = function (x, t)\n",
    "            z = predict(x)\n",
    "            y = softmax(z)\n",
    "            loss = cross_entropy_error(y, t)\n",
    "            loss\n",
    "        end\n",
    "        return new(W, predict, loss)\n",
    "    end\n",
    "end"
   ]
  },
  {
   "cell_type": "code",
   "execution_count": 200,
   "metadata": {
    "scrolled": false
   },
   "outputs": [
    {
     "name": "stdout",
     "output_type": "stream",
     "text": [
      "[1.067 0.412057 0.0336534; 1.62584 1.47549 -0.984667]\n",
      "[2.10345, 1.57518, -0.866008]\n",
      "1\n"
     ]
    },
    {
     "data": {
      "text/plain": [
       "1.6611888891380804"
      ]
     },
     "execution_count": 200,
     "metadata": {},
     "output_type": "execute_result"
    }
   ],
   "source": [
    "net = SimpleNet()\n",
    "println(net.W)\n",
    "x = [0.6; 0.9]\n",
    "p = net.predict(x)\n",
    "println(p)\n",
    "println(indmax(p))\n",
    "t = [0 0 1]\n",
    "net.loss(x, t)"
   ]
  },
  {
   "cell_type": "code",
   "execution_count": 203,
   "metadata": {
    "scrolled": true
   },
   "outputs": [
    {
     "data": {
      "text/plain": [
       "2×3 Array{Float64,2}:\n",
       " 0.165642  0.0155897  -0.181231\n",
       " 0.248462  0.0233846  -0.271847"
      ]
     },
     "execution_count": 203,
     "metadata": {},
     "output_type": "execute_result"
    }
   ],
   "source": [
    "function f(W)\n",
    "    net.loss(x, t)\n",
    "end\n",
    "#f =  W -> net.loss(x, t)　でもよい\n",
    "\n",
    "dW = numerical_gradient(f, net.W)\n",
    "dW"
   ]
  },
  {
   "cell_type": "code",
   "execution_count": 204,
   "metadata": {
    "scrolled": true
   },
   "outputs": [
    {
     "data": {
      "text/plain": [
       "2×3 Array{Float64,2}:\n",
       " 0.165642  0.0155897  -0.181231\n",
       " 0.248462  0.0233846  -0.271847"
      ]
     },
     "execution_count": 204,
     "metadata": {},
     "output_type": "execute_result"
    }
   ],
   "source": [
    "dW"
   ]
  },
  {
   "cell_type": "markdown",
   "metadata": {},
   "source": [
    "## 学習アルゴリズムの実装"
   ]
  },
  {
   "cell_type": "markdown",
   "metadata": {},
   "source": [
    "### 2層ニューラルネットワーク"
   ]
  },
  {
   "cell_type": "code",
   "execution_count": 11,
   "metadata": {
    "scrolled": false
   },
   "outputs": [],
   "source": [
    "type TwoLayerNet\n",
    "    params::Dict{String, Array{Float64}}\n",
    "    predict::Function\n",
    "    loss::Function\n",
    "    accuracy::Function\n",
    "    numerical_gradient::Function    \n",
    "    \n",
    "    function TwoLayerNet(input_size, hidden_size, output_size; weight_init_std=0.01)\n",
    "        params = Dict()\n",
    "        params[\"W1\"] = weight_init_std * randn(input_size, hidden_size)\n",
    "        params[\"b1\"] = zeros(hidden_size)'\n",
    "        params[\"W2\"] = weight_init_std * randn(hidden_size, output_size)\n",
    "        params[\"b2\"] = zeros(output_size)'\n",
    "        \n",
    "        predict = function(x)\n",
    "            W1, W2 = params[\"W1\"], params[\"W2\"]\n",
    "            b1, b2 = params[\"b1\"], params[\"b2\"]\n",
    "            a1 =x*W1 .+ b1\n",
    "            z1 = sigmoid(a1)\n",
    "            a2 = z1*W2 .+ b2\n",
    "            y = softmax(a2)\n",
    "            y\n",
    "        end\n",
    "        \n",
    "        loss = function(x, t)\n",
    "            y = predict(x)\n",
    "            cross_entropy_error(y, t)\n",
    "        end\n",
    "        \n",
    "        accuracy = function(x, t)\n",
    "            y = predict(x)\n",
    "            tmp = findmax(y, 1)[2]\n",
    "            y = [tmp[j] - (i-1)*output_size for i in 1:length(tmp)]\n",
    "            t = indmax(t)\n",
    "            accuracy = sum(t[i:i+batch_size-1] .== p-1) / float(size(x)[1])\n",
    "        end\n",
    "        \n",
    "        numerical_gradient = function(x, t)\n",
    "            loss_W = W -> loss(x, t)\n",
    "            grads = Dict()\n",
    "            grads[\"W1\"] = numerical_gradient(loss_W, params[\"W1\"])\n",
    "            grads[\"b1\"] = numerical_gradient(loss_W, params[\"b1\"])\n",
    "            grads[\"W2\"] = numerical_gradient(loss_W, params[\"W2\"])\n",
    "            grads[\"b2\"] = numerical_gradient(loss_W, params[\"b2\"])\n",
    "            grads\n",
    "        end\n",
    "        \n",
    "        new(params, predict, loss, accuracy, numerical_gradient)\n",
    "    end    \n",
    "end"
   ]
  },
  {
   "cell_type": "code",
   "execution_count": 12,
   "metadata": {
    "scrolled": false
   },
   "outputs": [
    {
     "name": "stdout",
     "output_type": "stream",
     "text": [
      "(784, 100)\n",
      "(1, 100)\n",
      "(100, 10)\n",
      "(1, 10)\n"
     ]
    }
   ],
   "source": [
    "net = TwoLayerNet(784, 100, 10)\n",
    "println(size(net.params[\"W1\"]))\n",
    "println(size(net.params[\"b1\"]))\n",
    "println(size(net.params[\"W2\"]))\n",
    "println(size(net.params[\"b2\"]))"
   ]
  },
  {
   "cell_type": "code",
   "execution_count": 13,
   "metadata": {},
   "outputs": [
    {
     "ename": "LoadError",
     "evalue": "\u001b[91mStackOverflowError:\u001b[39m",
     "output_type": "error",
     "traceback": [
      "\u001b[91mStackOverflowError:\u001b[39m",
      "",
      "Stacktrace:",
      " [1] \u001b[1m(::##24#31{Dict{Any,Any},##21#28{##20#27{Dict{Any,Any}}}})\u001b[22m\u001b[22m\u001b[1m(\u001b[22m\u001b[22m::Function, ::Array{Float64,2}\u001b[1m)\u001b[22m\u001b[22m at \u001b[1m./In[11]:39\u001b[22m\u001b[22m",
      " [2] \u001b[1m(::##24#31{Dict{Any,Any},##21#28{##20#27{Dict{Any,Any}}}})\u001b[22m\u001b[22m\u001b[1m(\u001b[22m\u001b[22m::Function, ::Array{Float64,2}\u001b[1m)\u001b[22m\u001b[22m at \u001b[1m./In[11]:41\u001b[22m\u001b[22m (repeats 11140 times)",
      " [3] \u001b[1minclude_string\u001b[22m\u001b[22m\u001b[1m(\u001b[22m\u001b[22m::String, ::String\u001b[1m)\u001b[22m\u001b[22m at \u001b[1m./loading.jl:515\u001b[22m\u001b[22m"
     ]
    }
   ],
   "source": [
    "x = rand(100, 784)\n",
    "y = net.predict(x)\n",
    "\n",
    "x = rand(100, 784)\n",
    "t = rand(100, 10)\n",
    "\n",
    "grads = net.numerical_gradient(x, t) # stackoverflowになる\n",
    "println(size(grads[\"W1\"]))\n",
    "println(size(grads[\"b1\"]))\n",
    "println(size(grads[\"W2\"]))\n",
    "println(size(grads[\"b2\"]))"
   ]
  },
  {
   "cell_type": "markdown",
   "metadata": {},
   "source": [
    "### ミニバッチ学習の実装"
   ]
  },
  {
   "cell_type": "code",
   "execution_count": 6,
   "metadata": {
    "collapsed": true
   },
   "outputs": [
    {
     "data": {
      "text/plain": [
       "([0.0 0.0 … 0.0 0.0; 0.0 0.0 … 0.0 0.0; … ; 0.0 0.0 … 0.0 0.0; 0.0 0.0 … 0.0 0.0]\n",
       "\n",
       "[0.0 0.0 … 0.0 0.0; 0.0 0.0 … 0.0 0.0; … ; 0.0 0.0 … 0.0 0.0; 0.0 0.0 … 0.0 0.0]\n",
       "\n",
       "[0.0 0.0 … 0.0 0.0; 0.0 0.0 … 0.0 0.0; … ; 0.0 0.0 … 0.0 0.0; 0.0 0.0 … 0.0 0.0]\n",
       "\n",
       "...\n",
       "\n",
       "[0.0 0.0 … 0.0 0.0; 0.0 0.0 … 0.0 0.0; … ; 0.0 0.0 … 0.0 0.0; 0.0 0.0 … 0.0 0.0]\n",
       "\n",
       "[0.0 0.0 … 0.0 0.0; 0.0 0.0 … 0.0 0.0; … ; 0.0 0.0 … 0.0 0.0; 0.0 0.0 … 0.0 0.0]\n",
       "\n",
       "[0.0 0.0 … 0.0 0.0; 0.0 0.0 … 0.0 0.0; … ; 0.0 0.0 … 0.0 0.0; 0.0 0.0 … 0.0 0.0], [7, 2, 1, 0, 4, 1, 4, 9, 5, 9  …  7, 8, 9, 0, 1, 2, 3, 4, 5, 6])"
      ]
     },
     "execution_count": 6,
     "metadata": {},
     "output_type": "execute_result"
    }
   ],
   "source": [
    "x_train, t_train = MNIST.traindata()\n",
    "x_test, t_test = MNIST.testdata()"
   ]
  },
  {
   "cell_type": "code",
   "execution_count": 14,
   "metadata": {},
   "outputs": [
    {
     "ename": "LoadError",
     "evalue": "\u001b[91mStackOverflowError:\u001b[39m",
     "output_type": "error",
     "traceback": [
      "\u001b[91mStackOverflowError:\u001b[39m",
      "",
      "Stacktrace:",
      " [1] \u001b[1m(::##24#31{Dict{Any,Any},##21#28{##20#27{Dict{Any,Any}}}})\u001b[22m\u001b[22m\u001b[1m(\u001b[22m\u001b[22m::Function, ::Array{Float64,2}\u001b[1m)\u001b[22m\u001b[22m at \u001b[1m./In[11]:39\u001b[22m\u001b[22m",
      " [2] \u001b[1m(::##24#31{Dict{Any,Any},##21#28{##20#27{Dict{Any,Any}}}})\u001b[22m\u001b[22m\u001b[1m(\u001b[22m\u001b[22m::Function, ::Array{Float64,2}\u001b[1m)\u001b[22m\u001b[22m at \u001b[1m./In[11]:41\u001b[22m\u001b[22m (repeats 11141 times)",
      " [3] \u001b[1mmacro expansion\u001b[22m\u001b[22m at \u001b[1m./In[14]:14\u001b[22m\u001b[22m [inlined]",
      " [4] \u001b[1manonymous\u001b[22m\u001b[22m at \u001b[1m./<missing>:?\u001b[22m\u001b[22m",
      " [5] \u001b[1minclude_string\u001b[22m\u001b[22m\u001b[1m(\u001b[22m\u001b[22m::String, ::String\u001b[1m)\u001b[22m\u001b[22m at \u001b[1m./loading.jl:515\u001b[22m\u001b[22m"
     ]
    }
   ],
   "source": [
    "train_loss_list = []\n",
    "\n",
    "iters_num = 1000\n",
    "train_size = size(x_train)[1]\n",
    "batch_size = 100\n",
    "learning_rate = 0.1\n",
    "\n",
    "network = TwoLayerNet(784, 50, 10)\n",
    "for i in 1:iters_num\n",
    "    batch_mask = rand(1:train_size, batch_size)\n",
    "    x_batch = x_train[batch_mask]\n",
    "    t_batch = t_train[batch_mask]\n",
    "    \n",
    "    grad = network.numerical_gradient(x_batch, t_batch)\n",
    "    \n",
    "    for key in [\"W1\", \"b1\", \"W2\", \"b2\"]\n",
    "        network.params[key] -= learning_rate * grad[key]\n",
    "    end\n",
    "    \n",
    "    loss = network.loss(x_batch, t_batch)\n",
    "    append!(train_loss_list, loss)\n",
    "end"
   ]
  },
  {
   "cell_type": "markdown",
   "metadata": {},
   "source": [
    "### テストデータで評価\n",
    "(省略)\n",
    "\n",
    "juliaでは数値微分無理そう（？）"
   ]
  }
 ],
 "metadata": {
  "kernelspec": {
   "display_name": "Julia 0.6.0",
   "language": "julia",
   "name": "julia-0.6"
  },
  "language_info": {
   "file_extension": ".jl",
   "mimetype": "application/julia",
   "name": "julia",
   "version": "0.6.0"
  }
 },
 "nbformat": 4,
 "nbformat_minor": 2
}
