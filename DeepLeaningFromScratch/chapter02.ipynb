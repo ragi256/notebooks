{
 "cells": [
  {
   "cell_type": "markdown",
   "metadata": {},
   "source": [
    "# パーセプトロン"
   ]
  },
  {
   "cell_type": "code",
   "execution_count": 1,
   "metadata": {},
   "outputs": [
    {
     "data": {
      "text/plain": [
       "AND (generic function with 1 method)"
      ]
     },
     "execution_count": 1,
     "metadata": {},
     "output_type": "execute_result"
    }
   ],
   "source": [
    "function AND(x1, x2)\n",
    "    w1,  w2, theta = 0.5, 0.5, 0.7\n",
    "    tmp = x1*w1 + x2*w2\n",
    "    if tmp <= theta\n",
    "        0\n",
    "    elseif tmp > theta\n",
    "        1\n",
    "    end\n",
    "end"
   ]
  },
  {
   "cell_type": "code",
   "execution_count": 2,
   "metadata": {},
   "outputs": [
    {
     "name": "stdout",
     "output_type": "stream",
     "text": [
      "0\n",
      "0\n",
      "0\n",
      "1\n"
     ]
    }
   ],
   "source": [
    "println(AND(0, 0))\n",
    "println(AND(0, 1))\n",
    "println(AND(1, 0))\n",
    "println(AND(1, 1))"
   ]
  },
  {
   "cell_type": "code",
   "execution_count": 3,
   "metadata": {},
   "outputs": [
    {
     "name": "stdout",
     "output_type": "stream",
     "text": [
      "[0.0 0.5]\n",
      "0.5\n",
      "-0.19999999999999996\n"
     ]
    }
   ],
   "source": [
    "x = [0 1]\n",
    "w = [0.5 0.5]\n",
    "b = -0.7\n",
    "println(w.*x)\n",
    "println(sum(w.*x))\n",
    "println(sum(w.*x)+b)"
   ]
  },
  {
   "cell_type": "code",
   "execution_count": 4,
   "metadata": {},
   "outputs": [
    {
     "data": {
      "text/plain": [
       "AND (generic function with 1 method)"
      ]
     },
     "execution_count": 4,
     "metadata": {},
     "output_type": "execute_result"
    }
   ],
   "source": [
    "function AND(x1, x2)\n",
    "    x = [x1 x2]\n",
    "    w = [0.5 0.5]\n",
    "    b = -0.7\n",
    "    tmp = sum(w.*x) + b\n",
    "    if tmp <= 0\n",
    "        0\n",
    "    else\n",
    "        1\n",
    "    end\n",
    "end"
   ]
  },
  {
   "cell_type": "code",
   "execution_count": 5,
   "metadata": {},
   "outputs": [
    {
     "data": {
      "text/plain": [
       "OR (generic function with 1 method)"
      ]
     },
     "execution_count": 5,
     "metadata": {},
     "output_type": "execute_result"
    }
   ],
   "source": [
    "function NAND(x1, x2)\n",
    "    x = [x1 x2]\n",
    "    w = [-0.5 -0.5]\n",
    "    b = 0.7\n",
    "    tmp = sum(w.*x) + b\n",
    "    if tmp <= 0\n",
    "        0\n",
    "    else\n",
    "        1\n",
    "    end\n",
    "end\n",
    "\n",
    "function OR(x1, x2)\n",
    "    x = [x1 x2]\n",
    "    w = [0.5 0.5]\n",
    "    b = -0.2\n",
    "    tmp = sum(w.*x) + b\n",
    "    if tmp <= 0\n",
    "        0\n",
    "    else\n",
    "        1\n",
    "    end\n",
    "end"
   ]
  },
  {
   "cell_type": "code",
   "execution_count": 6,
   "metadata": {},
   "outputs": [
    {
     "name": "stdout",
     "output_type": "stream",
     "text": [
      "0\n",
      "0\n",
      "0\n",
      "1\n"
     ]
    }
   ],
   "source": [
    "println(AND(0, 0))\n",
    "println(AND(0, 1))\n",
    "println(AND(1, 0))\n",
    "println(AND(1, 1))"
   ]
  },
  {
   "cell_type": "code",
   "execution_count": 7,
   "metadata": {},
   "outputs": [
    {
     "name": "stdout",
     "output_type": "stream",
     "text": [
      "1\n",
      "1\n",
      "1\n",
      "0\n"
     ]
    }
   ],
   "source": [
    "println(NAND(0, 0))\n",
    "println(NAND(0, 1))\n",
    "println(NAND(1, 0))\n",
    "println(NAND(1, 1))"
   ]
  },
  {
   "cell_type": "code",
   "execution_count": 8,
   "metadata": {},
   "outputs": [
    {
     "name": "stdout",
     "output_type": "stream",
     "text": [
      "0\n",
      "1\n",
      "1\n",
      "1\n"
     ]
    }
   ],
   "source": [
    "println(OR(0, 0))\n",
    "println(OR(0, 1))\n",
    "println(OR(1, 0))\n",
    "println(OR(1, 1))"
   ]
  },
  {
   "cell_type": "code",
   "execution_count": 9,
   "metadata": {},
   "outputs": [
    {
     "data": {
      "text/plain": [
       "XOR (generic function with 1 method)"
      ]
     },
     "execution_count": 9,
     "metadata": {},
     "output_type": "execute_result"
    }
   ],
   "source": [
    "function XOR(x1, x2)\n",
    "    s1 = NAND(x1, x2)\n",
    "    s2 = OR(x1, x2)\n",
    "    y = AND(s1, s2)\n",
    "    y\n",
    "end"
   ]
  },
  {
   "cell_type": "code",
   "execution_count": 10,
   "metadata": {},
   "outputs": [
    {
     "name": "stdout",
     "output_type": "stream",
     "text": [
      "0\n",
      "1\n",
      "1\n",
      "0\n"
     ]
    }
   ],
   "source": [
    "println(XOR(0, 0))\n",
    "println(XOR(0, 1))\n",
    "println(XOR(1, 0))\n",
    "println(XOR(1, 1))"
   ]
  }
 ],
 "metadata": {
  "kernelspec": {
   "display_name": "Julia 0.6.0",
   "language": "julia",
   "name": "julia-0.6"
  },
  "language_info": {
   "file_extension": ".jl",
   "mimetype": "application/julia",
   "name": "julia",
   "version": "0.6.0"
  }
 },
 "nbformat": 4,
 "nbformat_minor": 2
}
