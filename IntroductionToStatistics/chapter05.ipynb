{
 "cells": [
  {
   "cell_type": "markdown",
   "metadata": {
    "collapsed": true
   },
   "source": [
    "# 確率変数\n",
    "\n",
    "## 用語\n",
    "\n",
    "### 確率変数と確率分布\n",
    "- 乱数 random number\n",
    "- 確率変数 random variable\n",
    "- 離散型 discerete type\n",
    "- 確率分布 probability distribution\n",
    "- 離散型の確率分布 p, d, of discrete type\n",
    "- 連続型 continuous type\n",
    "- 確率密度関数 probability density function\n",
    "  - 指数分布 exponential distribution\n",
    "  - 一様分布 uniform distribution\n",
    "    - 一様乱数 uniform random number\n",
    "- 累積分布関数 cumulative distribution function\n",
    "- モード mode\n",
    "- 中央値 median\n",
    "\n",
    "### 確率変数の期待値と分散\n",
    "- 期待値 expectation\n",
    "- 分散 variance\n",
    "- 標準偏差 standard deviation\n",
    "\n",
    "### モーメントとモーメント母関数\n",
    "- 歪度（歪度係数） skewness\n",
    "- 尖度 kurtosis\n",
    "  - 超過係数 coefficient of excess\n",
    "- モーメント（積率） moment\n",
    "- モーメント母関数 moment generating function\n",
    "\n",
    "### チェビシェフの不等式\n",
    "- チェビシェフの不等式 Chebyshev's inequality\n",
    "\n",
    "### 確率変数の変換\n",
    "- 指数乱数 exponential random number\n",
    "- 対数正規分布 log-normal distribution"
   ]
  },
  {
   "cell_type": "code",
   "execution_count": null,
   "metadata": {},
   "outputs": [],
   "source": [
    "using Distributions\n",
    "using PyPlot"
   ]
  },
  {
   "cell_type": "markdown",
   "metadata": {},
   "source": [
    "---\n",
    "# ノート"
   ]
  },
  {
   "cell_type": "markdown",
   "metadata": {},
   "source": [
    "## 確率変数と確率分布\n",
    "確率変数：　各値に対してそれぞれ確率が与えられている変数  \n",
    "さいころの場合、出る目の値$X$が確率変数であり、確率は$P(X=1)=1/6$と表す。\n",
    "\n",
    "確率変数$X$には離散型・連続型がある。\n",
    "\n",
    "### 離散型\n",
    "二項分布、ポアソン分布、超幾何分布など\n",
    "$$f(x_k)\\geq0 （k=1,2, \\ldots） かつ \\sum_{k=1}^\\infty f(x_k)=1$$  \n",
    "\n",
    "### 連続型\n",
    "$$\\mbox{すべてのxに対し}\\ f(x_k)\\geq0 \\mbox{かつ} \\int_{-\\infty}^\\infty f(x_k) dx=1$$\n",
    "\n",
    "連続型において$f(x)$は確率密度関数という。連続型の確率分布は面積が確率を表すため、一点の確率は0となる。 e.g.) $\\int_k^k f(x) dx=0$  \n",
    "連続型確率分布の扱いの例として指数分布 $f(x)=\\lambda e^{-\\lambda x}(\\lambda\\gt0)$ を考える。  \n",
    "$$ \\int_{-\\infty}^\\infty f(x_k) dx = \\int_0^\\infty \\lambda e^{-\\lambda x} dx=1$$\n",
    "$$ P(a\\geq X\\geq b)= \\int_b^a \\lambda e^{-\\lambda x} dx=e^{-\\lambda a}-e^{-\\lambda b}$$\n",
    "\n",
    "### 累積分布関数\n",
    "確率変数$X$に対して実数$x$以下の確率を$X$の累積分布関数と呼ぶ。\n",
    "$$F(x)=P(X\\geq x)$$\n",
    "連続型の場合$F(x)$は密度関数 $f$の定積分 $F(x)=\\int_{-\\infty}^{x}f(u)\\ du$ となる。この場合$F(x)$を微分することで密度関数 $f(x)$が復元できる。\n",
    "離散型の場合は$-\\infty$から$x$まで積み上げた、$F(x)=\\sum_{u\\geq x}f(u)$となる。\n",
    "\n",
    "累積分布関数は次の3つの性質をもつ\n",
    "1. 広義単調増加 \n",
    "  - $x_1\\lt x_2$ならば$F(x_1)\\leq F(x_2)$\n",
    "2. 範囲\n",
    "  - $x \\rightarrow \\infty$のとき$F(x) \\rightarrow 1$\n",
    "  - $x \\rightarrow -\\infty$のとき$F(x) \\rightarrow 0$\n",
    "3. 右連続\n",
    "  - 各点 $x$で$\\epsilon \\downarrow 0$のとき$F(x+\\epsilon)\\rightarrow F(x)$"
   ]
  },
  {
   "cell_type": "code",
   "execution_count": null,
   "metadata": {},
   "outputs": [],
   "source": []
  },
  {
   "cell_type": "markdown",
   "metadata": {},
   "source": [
    "## 確率変数の期待値と分散\n",
    "確率変数Xの関数$\\phi(X)$について期待値$E(X)$の定義は以下の通りである。一般には$\\phi(x)=x$である。\n",
    "\n",
    "$$E(\\phi(X))=\\sum_x \\phi(x)\\ f(x) \\ (\\mbox{離散型})$$ \n",
    "$$E(\\phi(X))=\\int_{-\\infty}^{\\infty}\\phi(x)\\ f(x)\\ dx \\ (\\mbox{連続型})$$ \n",
    "\n",
    "期待値は1つの定数であり、無限和・積分であるために存在しないこともある。期待値は平均であり、重心である。"
   ]
  },
  {
   "cell_type": "code",
   "execution_count": 1,
   "metadata": {},
   "outputs": [
    {
     "data": {
      "text/plain": [
       "0.2"
      ]
     },
     "execution_count": 1,
     "metadata": {},
     "output_type": "execute_result"
    }
   ],
   "source": [
    "# 指数関数の期待値は 1/lambdaだが、juliaのExponential関数はlambdaの逆数を入力とする\n",
    "lambda = 5\n",
    "mean(Exponential(1/lambda))"
   ]
  },
  {
   "cell_type": "markdown",
   "metadata": {},
   "source": [
    "期待値の演算$E$について重要な性質は以下の通り\n",
    "1. $E(c)=c$\n",
    "2. $E(X+c)=E(X)+c$\n",
    "3. $E(cX)=cE(X)$\n",
    "4. $E(X+Y)=E(X)+E(Y)$ （期待値の加法性）\n",
    "\n",
    "さいきころを2回振ったときの平均値の値を確率変数とする。1回でも2回でも平均値は同じだが、ばらつきが異なる。（一様分布から正規分布に近づく）\n",
    "そのばらつきを表す$X$の分散を$V(X)$とする。$\\mu = E(X)$とすると$V(X)=E\\{(X-\\mu)^2\\}$である。\n",
    "\n",
    "$$E(\\phi(X))=\\sum_x (x-\\mu)^2 \\ f(x) \\ (\\mbox{離散型})$$ \n",
    "$$E(\\phi(X))=\\int_{-\\infty}^{\\infty}(x-\\mu)^2\\ f(x)\\ dx \\ (\\mbox{連続型})$$ \n",
    "\n",
    "上記が分散の定義だが、計算自体はもっと簡単にできる。\n",
    "$$V(X) = E(X^2)-(E(X))^2$$\n",
    "\n",
    "分散の重要な性質は次の通り。\n",
    "1. $V(c)=0$\n",
    "2. $V(X+c)=V(X)$\n",
    "3. $V(cX)=c^2V(X)$\n",
    "\n",
    "分散の平方根を$D(X)=\\sqrt{V(X)}$とおき、$X$の標準偏差という。標準偏差は元の確率変数と同じ次元を持つ。\n",
    "\n",
    "標準化について、期待値と分散を下記のように調整する。\n",
    "$$Z=\\{X-E(X)\\}/\\sqrt{V(X)}$$\n",
    "期待値の性質3と分散の性質3によりZについて下記が言える。この変換を確率変数の**標準化**といい、$Z$を**標準化変数**という。\n",
    "$$E(Z)=0, V(Z)=1$$"
   ]
  },
  {
   "cell_type": "markdown",
   "metadata": {},
   "source": [
    "## モーメントとモーメント母関数\n",
    "### 歪度\n",
    "期待値$E(X)$と分散$V(X)$で確率分布の様子はある程度わかるがこれだけでは形が一通りに決まらない。  \n",
    "非対称性の指標として方向・程度を表す下記の値を用いる。**歪度**と呼ぶ。\n",
    "$$\\alpha_3 = E(X-\\mu)^3/\\sigma^3$$\n",
    "$\\alpha_3>0$なら右の裾が長く、$\\alpha_3<0$なら左の裾が長い。\n",
    "\n",
    "歪度は$\\mu$を中心として$X$が正負どちら側に優勢かどうかをみている。  \n",
    "三次関数$y=x^3$は符号を保ったまま値を大きくするためより顕著にわかる。  \n",
    "また、標準化のために$\\sigma^3$で割る。"
   ]
  },
  {
   "cell_type": "code",
   "execution_count": 4,
   "metadata": {
    "scrolled": false
   },
   "outputs": [
    {
     "data": {
      "image/png": "[encoded data removed]",
      "text/plain": [
       "PyPlot.Figure(PyObject <matplotlib.figure.Figure object at 0x126012ba8>)"
      ]
     },
     "metadata": {},
     "output_type": "display_data"
    },
    {
     "data": {
      "text/plain": [
       "(PyObject <matplotlib.patches.Rectangle object at 0x1263073c8>, PyObject <matplotlib.patches.Rectangle object at 0x126307b38>, PyObject <matplotlib.patches.Rectangle object at 0x12630f400>, PyObject <matplotlib.patches.Rectangle object at 0x12630fcf8>, PyObject <matplotlib.patches.Rectangle object at 0x1263165f8>, PyObject <matplotlib.patches.Rectangle object at 0x126316eb8>)"
      ]
     },
     "execution_count": 4,
     "metadata": {},
     "output_type": "execute_result"
    }
   ],
   "source": [
    "# 右に裾の長い例\n",
    "x, bin = linspace(0, 5, 6), Binomial(5, 1/3)\n",
    "figure(figsize=(12, 3))\n",
    "bar(x, pdf.(bin, x), width=0.1)"
   ]
  },
  {
   "cell_type": "markdown",
   "metadata": {},
   "source": [
    "$E(X-\\mu)^3$は下記のように求められる。\n",
    "\n",
    "\\begin{align}\n",
    "E(X-\\mu)^3 &= E(\\,X^3) - 3\\mu E(\\,X^2) + 3 \\mu^2 E(X) - \\mu^3 \\\\\n",
    "                   &= E(\\,X^3) -3 \\mu E(\\,X^2) + 2 \\mu^3\n",
    "\\end{align}                 \n"
   ]
  },
  {
   "cell_type": "code",
   "execution_count": 28,
   "metadata": {},
   "outputs": [
    {
     "data": {
      "text/plain": [
       "0.3162277660168363"
      ]
     },
     "execution_count": 28,
     "metadata": {},
     "output_type": "execute_result"
    }
   ],
   "source": [
    "# 上式を使ってα3を求める\n",
    "μ=mean(bin)\n",
    "EX2 = sum(x.^2 .* pdf.(bin, x))\n",
    "EX3 = sum(x.^3 .* pdf.(bin, x))\n",
    "(EX3 - 3 * μ * EX2 + 2*μ^3)/(std(bin)^3)"
   ]
  },
  {
   "cell_type": "code",
   "execution_count": 8,
   "metadata": {
    "scrolled": true
   },
   "outputs": [
    {
     "data": {
      "text/plain": [
       "0.316227766016838"
      ]
     },
     "execution_count": 8,
     "metadata": {},
     "output_type": "execute_result"
    }
   ],
   "source": [
    "# Distributions.jlの関数を使って求める\n",
    "skewness(bin)"
   ]
  },
  {
   "cell_type": "markdown",
   "metadata": {},
   "source": [
    "### 尖度\n",
    "確率分布の中心付近の尖り具合を示す指標として四乗の期待値を用いる。\n",
    "$$\\alpha_4=E(X-\\mu)^4/\\sigma^4$$\n",
    "正規分布の値、$\\alpha_4=3$と比較して$\\alpha_4-3$を**尖度**という。  \n",
    "$\\alpha_4-3>0$なら正規分布より尖っており、$\\alpha_4-3<0$なら正規分布より丸いといったように扱う。\n",
    "\n",
    "四次関数$y=x^4$は$x=0$より遠くなればなるほど値が激しく増加する。  \n",
    "$\\mu$を中心としたとき、中心の影響度合いと周辺部の影響度合いをみることができる。  \n",
    "周辺部に影響が大きいとき$E(X-\\mu)$の値は大きくなる。"
   ]
  },
  {
   "cell_type": "code",
   "execution_count": 29,
   "metadata": {
    "scrolled": true
   },
   "outputs": [
    {
     "data": {
      "text/plain": [
       "-0.3000000000000001"
      ]
     },
     "execution_count": 29,
     "metadata": {},
     "output_type": "execute_result"
    }
   ],
   "source": [
    "kurtosis(bin)"
   ]
  },
  {
   "cell_type": "markdown",
   "metadata": {},
   "source": [
    "### モーメント\n",
    "期待値、歪度、尖度を考えると確率分布の形は$E(X-\\mu)^r$で決まることがわかる。  \n",
    "$\\mu_r=E(X^r)$を$X$の原点のまわりの$r$次の**モーメント（積率）**という。  \n",
    "$\\mu'_r=E(X-\\mu)^r$を$X$の原点のまわりの$r$次の**モーメント（積率）**という。  \n",
    "$\\alpha_r=E\\{(X-\\mu)/\\sigma\\}^r$を$X$の$r$次の**標準化モーメント**という。\n",
    "\n",
    "期待値、分散は基礎的なモーメントであり、 $\\mu_1=E(X),\\;\\mu'_2=V(X)$である。\n",
    "\n",
    "期待値、分散、歪度、尖度を指定するとあてはまる確率分布の候補が制限されていく。  \n",
    "そのようにしてすべての次数のモーメントを指定することで確率分布を一意に決定することができる。  \n",
    "すべての次数のモーメントを生成する以下の関数を**モーメント母関数**と呼ぶ。\n",
    "$$M_x(t)=E(e^{\\,tX})$$\n",
    "\n",
    "実際の計算は離散型であれば無限和、連続型であれば無限積分を行う。ただし、無限和・積分が存在しないことも有る。\n",
    "ネイピア数の展開式$e^x=1+x+x^2/2!+x^3/3! + \\dots$より$x=tX$を代入して両辺期待値を取ると\n",
    "\n",
    "\\begin{align}\n",
    "M_x(t) &= 1+tE(X)+t^2E(\\,X^2)/2!+t^3E(\\,X^3)/3!+\\dots \\\\\n",
    "         &= 1+\\mu_1t+(\\mu_2/2!)\\,t^2+(\\mu_3/3!)\\,t^3 + \\dots\n",
    "\\end{align}                 \n",
    "となるので次数の数だけ微分して$t=0$とすれば$\\mu_r$が得られる。よって$M_x^{(r)}(0)=\\mu_r$である。\n",
    "\n",
    "モーメント母関数$M_x(t)$がすべての次数のモーメントを生成するため、確率分布を決定するものとなる。  \n",
    "事実上モーメント母関数は確率分布そのものである。（メリットは6章7章で）"
   ]
  },
  {
   "cell_type": "markdown",
   "metadata": {},
   "source": [
    "## チェビシェフの不等式\n",
    "分布の平均と分散が与えられ、確率の見当をつける際に次に示すチェビシェフの不等式が役に立つときがある。  \n",
    "次の不等式は**いかなる確率変数Xにたいしても成立する**。ただし、$\\mu=E(X),\\;\\sigma^2=V(X)$である。\n",
    "$$P(|\\,X-\\mu\\,|\\geq k\\sigma)\\leq1/k^2$$\n",
    "\n",
    "今までの例で扱ったような$f(x)$の式が具体的にわかっていなくとも、期待値と分散がわかっていれば確率の値を不等式の形で示すことができる。これがチェビシェフの不等式のメリットである。\n",
    "\n",
    "例）　$E(X)=1, V(X)=1/3$であるとき、$0\\geq X \\geq 2$となる確率はいくらか。\n",
    "$$P(0\\geq X \\geq 2) = P(|X-\\mu |)\\geq \\sqrt{3}\\sigma) \\leq 1-(1-\\sqrt{3})^2=2/3$$\n",
    "よって求める確率は2/3以上であることがわかる。"
   ]
  },
  {
   "cell_type": "markdown",
   "metadata": {},
   "source": [
    "## 確率変数の変換"
   ]
  },
  {
   "cell_type": "markdown",
   "metadata": {},
   "source": [
    "---\n",
    "# 練習問題"
   ]
  },
  {
   "cell_type": "markdown",
   "metadata": {},
   "source": [
    "## 一様分布"
   ]
  },
  {
   "cell_type": "markdown",
   "metadata": {},
   "source": [
    "## 期待値の実地例"
   ]
  },
  {
   "cell_type": "markdown",
   "metadata": {},
   "source": [
    "## 聖ペテルスブルグの逆説"
   ]
  },
  {
   "cell_type": "code",
   "execution_count": 13,
   "metadata": {
    "scrolled": false
   },
   "outputs": [
    {
     "data": {
      "text/html": [
       "<img src=\"data:image/png;base64,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\" />"
      ]
     },
     "execution_count": 13,
     "metadata": {},
     "output_type": "execute_result"
    }
   ],
   "source": [
    "x = linspace(0, 40, 400)\n",
    "A, B, C = Binomial(20, .5), Binomial(20, .7), Binomial(40, .5)\n",
    "y = [cdf.(A, x) cdf.(B, x) cdf.(C, x)]\n",
    "plot(x, y)"
   ]
  },
  {
   "cell_type": "markdown",
   "metadata": {},
   "source": [
    "## 最小平均二乗"
   ]
  },
  {
   "cell_type": "code",
   "execution_count": 14,
   "metadata": {
    "scrolled": true
   },
   "outputs": [
    {
     "ename": "LoadError",
     "evalue": "\u001b[91mtype StepRangeLen has no field shape\u001b[39m",
     "output_type": "error",
     "traceback": [
      "\u001b[91mtype StepRangeLen has no field shape\u001b[39m",
      "",
      "Stacktrace:",
      " [1] \u001b[1minclude_string\u001b[22m\u001b[22m\u001b[1m(\u001b[22m\u001b[22m::String, ::String\u001b[1m)\u001b[22m\u001b[22m at \u001b[1m./loading.jl:522\u001b[22m\u001b[22m"
     ]
    }
   ],
   "source": [
    "x.shape\n",
    "[0 1 2 3 4 5].shape"
   ]
  },
  {
   "cell_type": "markdown",
   "metadata": {},
   "source": [
    "## 正$n$面体の期待値と分散"
   ]
  },
  {
   "cell_type": "code",
   "execution_count": 26,
   "metadata": {
    "scrolled": true
   },
   "outputs": [
    {
     "data": {
      "text/plain": [
       "0.0:1.0:5.0"
      ]
     },
     "execution_count": 26,
     "metadata": {},
     "output_type": "execute_result"
    }
   ],
   "source": [
    "linspace(0, 5, 6)"
   ]
  },
  {
   "cell_type": "markdown",
   "metadata": {},
   "source": [
    "## 一様分布の平方変換"
   ]
  },
  {
   "cell_type": "markdown",
   "metadata": {},
   "source": [
    "## 正規分布の平方変換"
   ]
  },
  {
   "cell_type": "markdown",
   "metadata": {},
   "source": [
    "## 累積分布関数における等号"
   ]
  }
 ],
 "metadata": {
  "kernelspec": {
   "display_name": "Julia 0.6.0",
   "language": "julia",
   "name": "julia-0.6"
  },
  "language_info": {
   "file_extension": ".jl",
   "mimetype": "application/julia",
   "name": "julia",
   "version": "0.6.1"
  }
 },
 "nbformat": 4,
 "nbformat_minor": 2
}
