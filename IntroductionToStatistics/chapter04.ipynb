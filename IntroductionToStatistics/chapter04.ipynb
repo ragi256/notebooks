{
 "cells": [
  {
   "cell_type": "markdown",
   "metadata": {},
   "source": [
    "# 確率\n",
    "\n",
    "## 用語\n",
    "\n",
    "### ランダムネスと確率\n",
    "- 確率 probability\n",
    " - ランダム性 randomness\n",
    " - ランダムネスの法則 law of randomness\n",
    " \n",
    "### 標本空間と事象\n",
    "- 可能な結果 possible outcomes\n",
    "- 標本点 sample point\n",
    "- 標本空間 sample space\n",
    "- 事象 event\n",
    "- 部分集合 subset\n",
    "- 空事象 empty event\n",
    "- 根元事象 elementary event\n",
    "- 複合事象 fatorial\n",
    "- 階乗 factorial\n",
    "- 順列の数 permutation\n",
    "- 組み合わせの数 combination\n",
    "- 二項係数 binomial coefficient\n",
    "- スターリングの公式 Stirling's formula\n",
    "- ベン図 Venn diagram\n",
    "- 排反事象 disjoint events\n",
    "- 和事象 union of events\n",
    "- 積事象 intersection of events\n",
    "- 分配法則 distributive law\n",
    "- 補事象 complementary event\n",
    "- ド・モルガンの法則 de Morgan's law\n",
    "\n",
    "### 確率の定義\n",
    "- 同程度に確からしい equally likely\n",
    "- 都合の良い（根元事象） favorable （elementary event）\n",
    "- 理由不十分の原則 principle of insufficient reason\n",
    "- 頻度説 frequency theory\n",
    "- 相対頻度 relative frequency\n",
    "- 公理主義的定義 axiomatic definition\n",
    "- 測度 measure\n",
    "- 客観説 objective view\n",
    "- 主観説 subjective view\n",
    " - 主観確率 subjective probability\n",
    "- ベイズ統計学 Bayesian statistics\n",
    "\n",
    "### 加法定理\n",
    "### 条件付き確率と独立性\n",
    "- 条件付き確率 conditinoal probability\n",
    "- 独立 independent\n",
    "- ベイズの定理 Bayes' theorem\n",
    "- 事前確率 prior probability\n",
    "- 事後確率 posterior probability\n"
   ]
  },
  {
   "cell_type": "markdown",
   "metadata": {},
   "source": [
    "---\n",
    "# ノート"
   ]
  },
  {
   "cell_type": "markdown",
   "metadata": {
    "collapsed": true
   },
   "source": [
    "---\n",
    "# 練習問題"
   ]
  },
  {
   "cell_type": "markdown",
   "metadata": {},
   "source": [
    "## ド・メレの問題"
   ]
  },
  {
   "cell_type": "markdown",
   "metadata": {},
   "source": [
    "## ホイヘンスの14問題の第11"
   ]
  },
  {
   "cell_type": "markdown",
   "metadata": {},
   "source": [
    "##  看護婦の交代勤務"
   ]
  },
  {
   "cell_type": "markdown",
   "metadata": {},
   "source": [
    "##  誕生日の問題"
   ]
  },
  {
   "cell_type": "markdown",
   "metadata": {},
   "source": [
    "## 行動科学と確率"
   ]
  },
  {
   "cell_type": "markdown",
   "metadata": {},
   "source": [
    "## ガリレイの問題"
   ]
  },
  {
   "cell_type": "markdown",
   "metadata": {},
   "source": [
    "## ガンの診断"
   ]
  }
 ],
 "metadata": {
  "kernelspec": {
   "display_name": "Julia 0.6.0",
   "language": "julia",
   "name": "julia-0.6"
  },
  "language_info": {
   "file_extension": ".jl",
   "mimetype": "application/julia",
   "name": "julia",
   "version": "0.6.0"
  }
 },
 "nbformat": 4,
 "nbformat_minor": 2
}
