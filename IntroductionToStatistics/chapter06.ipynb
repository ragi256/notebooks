{
 "cells": [
  {
   "cell_type": "markdown",
   "metadata": {
    "collapsed": true
   },
   "source": [
    "# 確率分布\n",
    "## 用語\n",
    "- 超幾何分布 hypergeometric distribution\n",
    " - 捕獲再捕獲法 capture-recapture method\n",
    " - 非復元 without replacement\n",
    " - 復元 with replacement\n",
    "- ベルヌーイ分布 Bernoulli trials\n",
    "- 二項分布 binomial distribution\n",
    "- ポアソン分布 poisson distribution\n",
    " - ポアソンの小数の法則 Poisson's law of small numbers\n",
    "- 幾何分布 geometric distribution\n",
    " - 待ち時間分布 waiting time distribution\n",
    "- 負の二項分布 negative binomial distribution\n",
    "- 離散一様分布 uniform distribution of discrete type\n",
    "- 正規分布 normal distribution\n",
    " - ガウス分布 Gaussian distribution\n",
    " - 誤差関数 error function\n",
    " - 標準正規分布 standard normal distribution\n",
    " - 中心極限定理 central limit theorem\n",
    " - ド・モアブル-ラプラスの定理 De Moivre-Laplace's theorem\n",
    "- 指数分布 exponential distribution\n",
    "- ガンマ分布 Gamma distribution\n",
    "- ベータ分布 Beta distribution\n",
    "- コーシー分布 Cauchy distribution\n",
    "- 対数正規分布 log-normal distribution\n",
    "- パレート分布 Pareto distribution\n",
    "- ワイブル分布 Weibul distribution\n",
    " - IFR "
   ]
  },
  {
   "cell_type": "markdown",
   "metadata": {},
   "source": [
    "---\n",
    "# ノート"
   ]
  },
  {
   "cell_type": "code",
   "execution_count": 2,
   "metadata": {},
   "outputs": [],
   "source": [
    "using Distributions"
   ]
  },
  {
   "cell_type": "markdown",
   "metadata": {},
   "source": [
    "## 超幾何分布\n",
    "$f(x)={}_M C _x \\cdot _{N-M} C_{n-x}/_N C _n$  \n",
    "$x=Max(0, n-(N-M)), \\ldots, Min(n,  M)$"
   ]
  },
  {
   "cell_type": "code",
   "execution_count": 3,
   "metadata": {
    "scrolled": true
   },
   "outputs": [
    {
     "data": {
      "text/plain": [
       "0.4106269533112391"
      ]
     },
     "execution_count": 3,
     "metadata": {},
     "output_type": "execute_result"
    }
   ],
   "source": [
    "pdf(Hypergeometric(200, 800, 5), 1)"
   ]
  },
  {
   "cell_type": "code",
   "execution_count": 4,
   "metadata": {
    "scrolled": true
   },
   "outputs": [
    {
     "data": {
      "text/plain": [
       "0.32685905483574634"
      ]
     },
     "execution_count": 4,
     "metadata": {},
     "output_type": "execute_result"
    }
   ],
   "source": [
    "pdf(Hypergeometric(200, 800, 5), 0)"
   ]
  },
  {
   "cell_type": "markdown",
   "metadata": {},
   "source": [
    "## ベルヌーイ分布・二項分布"
   ]
  },
  {
   "cell_type": "code",
   "execution_count": 5,
   "metadata": {},
   "outputs": [
    {
     "name": "stdout",
     "output_type": "stream",
     "text": [
      "f(0)=0.3276800000000001\n",
      "f(1)=0.40959999999999996\n",
      "f(2)=0.20479999999999993\n",
      "f(3)=0.051199999999999996\n",
      "f(4)=0.006400000000000004\n",
      "f(5)=0.0003200000000000001\n"
     ]
    }
   ],
   "source": [
    "for i in 0:5\n",
    "    f = pdf(Binomial(5, 0.2), i)\n",
    "    println(\"f($i)=$f\")\n",
    "end"
   ]
  },
  {
   "cell_type": "markdown",
   "metadata": {},
   "source": [
    "## ポアソン分布"
   ]
  },
  {
   "cell_type": "code",
   "execution_count": 6,
   "metadata": {
    "scrolled": true
   },
   "outputs": [
    {
     "name": "stdout",
     "output_type": "stream",
     "text": [
      "f(3)=0.18044704431548364\n",
      "f(2)=0.2706705664732254\n",
      "f(1)=0.2706705664732254\n",
      "f(0)=0.1353352832366127\n"
     ]
    }
   ],
   "source": [
    "for i in 3:-1:0\n",
    "    f = pdf(Poisson(2), i)\n",
    "    println(\"f($i)=$f\")\n",
    "end"
   ]
  },
  {
   "cell_type": "markdown",
   "metadata": {},
   "source": [
    "## 幾何分布"
   ]
  },
  {
   "cell_type": "code",
   "execution_count": 7,
   "metadata": {
    "scrolled": true
   },
   "outputs": [
    {
     "data": {
      "text/plain": [
       "0.361760669448159"
      ]
     },
     "execution_count": 7,
     "metadata": {},
     "output_type": "execute_result"
    }
   ],
   "source": [
    "cdf(Geometric(0.04), 10)"
   ]
  },
  {
   "cell_type": "markdown",
   "metadata": {},
   "source": [
    "## 負の二項分布"
   ]
  },
  {
   "cell_type": "code",
   "execution_count": null,
   "metadata": {},
   "outputs": [],
   "source": [
    "NegativeBinomial(r,p)"
   ]
  },
  {
   "cell_type": "markdown",
   "metadata": {},
   "source": [
    "## 一様分布"
   ]
  },
  {
   "cell_type": "code",
   "execution_count": null,
   "metadata": {},
   "outputs": [],
   "source": [
    "Uniform(a, b)"
   ]
  },
  {
   "cell_type": "markdown",
   "metadata": {},
   "source": [
    "## 正規分布"
   ]
  },
  {
   "cell_type": "code",
   "execution_count": null,
   "metadata": {},
   "outputs": [],
   "source": [
    "Normal()"
   ]
  },
  {
   "cell_type": "markdown",
   "metadata": {},
   "source": [
    "## 指数分布"
   ]
  },
  {
   "cell_type": "code",
   "execution_count": null,
   "metadata": {},
   "outputs": [],
   "source": [
    "Exponential(θ)"
   ]
  },
  {
   "cell_type": "markdown",
   "metadata": {},
   "source": [
    "## ガンマ分布"
   ]
  },
  {
   "cell_type": "code",
   "execution_count": null,
   "metadata": {},
   "outputs": [],
   "source": [
    "Gamma(α,θ)"
   ]
  },
  {
   "cell_type": "markdown",
   "metadata": {},
   "source": [
    "## ベータ分布"
   ]
  },
  {
   "cell_type": "code",
   "execution_count": null,
   "metadata": {},
   "outputs": [],
   "source": [
    "Beta(α,β)"
   ]
  },
  {
   "cell_type": "markdown",
   "metadata": {},
   "source": [
    "## コーシー分布"
   ]
  },
  {
   "cell_type": "code",
   "execution_count": null,
   "metadata": {},
   "outputs": [],
   "source": [
    "Cauchy(μ, σ)"
   ]
  },
  {
   "cell_type": "markdown",
   "metadata": {},
   "source": [
    "## 対数正規分布"
   ]
  },
  {
   "cell_type": "code",
   "execution_count": null,
   "metadata": {},
   "outputs": [],
   "source": [
    "LogNormal(μ,σ)"
   ]
  },
  {
   "cell_type": "markdown",
   "metadata": {},
   "source": [
    "## パレート分布"
   ]
  },
  {
   "cell_type": "code",
   "execution_count": null,
   "metadata": {},
   "outputs": [],
   "source": [
    "Pareto(α,θ)"
   ]
  },
  {
   "cell_type": "markdown",
   "metadata": {},
   "source": [
    "## ワイブル分布"
   ]
  },
  {
   "cell_type": "code",
   "execution_count": null,
   "metadata": {},
   "outputs": [],
   "source": [
    "Weibull(α,θ)"
   ]
  },
  {
   "cell_type": "markdown",
   "metadata": {},
   "source": [
    "---\n",
    "# 練習問題"
   ]
  },
  {
   "cell_type": "markdown",
   "metadata": {},
   "source": [
    "## 二項、ポアソン分布の分散"
   ]
  },
  {
   "cell_type": "markdown",
   "metadata": {},
   "source": [
    "## 急患用ベッド数"
   ]
  },
  {
   "cell_type": "markdown",
   "metadata": {},
   "source": [
    "## 負の二項分布"
   ]
  },
  {
   "cell_type": "markdown",
   "metadata": {},
   "source": [
    "## Odd man out"
   ]
  },
  {
   "cell_type": "markdown",
   "metadata": {},
   "source": [
    "## 密度関数の規格化定数"
   ]
  },
  {
   "cell_type": "markdown",
   "metadata": {},
   "source": [
    "##  記憶喪失性と瞬間故障率"
   ]
  },
  {
   "cell_type": "markdown",
   "metadata": {},
   "source": [
    "## 正規分布のパーセント点"
   ]
  },
  {
   "cell_type": "markdown",
   "metadata": {},
   "source": [
    "## 確率分布のモード"
   ]
  },
  {
   "cell_type": "markdown",
   "metadata": {},
   "source": [
    "## ワイブル分布"
   ]
  },
  {
   "cell_type": "markdown",
   "metadata": {},
   "source": [
    "## 正規分布、指数分布の尖度"
   ]
  }
 ],
 "metadata": {
  "kernelspec": {
   "display_name": "Julia 0.6.0",
   "language": "julia",
   "name": "julia-0.6"
  },
  "language_info": {
   "file_extension": ".jl",
   "mimetype": "application/julia",
   "name": "julia",
   "version": "0.6.1"
  }
 },
 "nbformat": 4,
 "nbformat_minor": 2
}
