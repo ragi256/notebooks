{
 "cells": [
  {
   "cell_type": "markdown",
   "metadata": {},
   "source": [
    "# 1次元のデータ\n",
    "\n",
    "## 用語\n",
    "\n",
    "- 記述統計学 descriptive statistics\n",
    "- 観測 observation\n",
    "- データ　data\n",
    "\n",
    "### 度数分布とヒストグラム\n",
    "- 階級 class\n",
    "- 階級値\n",
    "- 度数　frequency\n",
    " - 相対度数 relative frequency\n",
    " - 累積度数 comulative frequency\n",
    " - 累積相対度数　cumulative relative frequency\n",
    "- ヒストグラム historgram (柱状グラフ)\n",
    " - 双峰型 bimodal\n",
    " - 短峰型 unimodal \n",
    " - 層別\n",
    " - 階級数・階級幅\n",
    " - スタージェスの公式\n",
    " - ローレンツ曲線 Lorenz curve\n",
    "-  測定 measurement\n",
    "-  尺度 scales\n",
    " - 名義尺度 nominal scale\n",
    " - 順序尺度 ordinal scale\n",
    " - 間隔尺度 interval scale\n",
    " - 比尺度 ratio scale\n",
    "\n",
    "### 代表値\n",
    "- 代表値\n",
    "- 平均 mean\n",
    " - 算術平均 arithmetic mean\n",
    " - 幾何平均 geometric mean\n",
    " - 調和平均　harmonic mean\n",
    "- 異常値・外れ値　outlier\n",
    "- メディアン median\n",
    "- パーセンタイル・百分位点 percentile\n",
    "- モード・最頻値 mode\n",
    "- ミッド・レンジ mid-range\n",
    "\n",
    "### 散らばりの尺度\n",
    "- 散らばり dispersion\n",
    "- 範囲・レンジ　range\n",
    "- 四分位偏差 quartile deviation, semi-inter quartile range\n",
    "- 偏差 deviation\n",
    "- 平均偏差 mean deviation\n",
    "- 分散 variance\n",
    "- 標準偏差 standard deviation\n",
    "- 変動係数 coefficient of variation\n",
    "- 標準化 standardization\n",
    " - 標準得点 standard score\n",
    "\n"
   ]
  },
  {
   "cell_type": "markdown",
   "metadata": {},
   "source": [
    "---\n",
    "# ノート"
   ]
  },
  {
   "cell_type": "markdown",
   "metadata": {
    "collapsed": true
   },
   "source": [
    "---\n",
    "# 練習問題"
   ]
  },
  {
   "cell_type": "markdown",
   "metadata": {},
   "source": [
    "## 代表値の間隔\n",
    "多くの経済量の分布が非対称な形をしている。mode/median/meanの間隔と$Me-Mo ≒ k (\\bar{x} - Me)$ で$k$の値を調べよ。\n"
   ]
  },
  {
   "cell_type": "markdown",
   "metadata": {},
   "source": [
    "## ジニ係数"
   ]
  },
  {
   "cell_type": "markdown",
   "metadata": {},
   "source": [
    "## エントロピー"
   ]
  },
  {
   "cell_type": "markdown",
   "metadata": {},
   "source": [
    "## 諸得点"
   ]
  }
 ],
 "metadata": {
  "kernelspec": {
   "display_name": "Julia 0.6.0",
   "language": "julia",
   "name": "julia-0.6"
  },
  "language_info": {
   "file_extension": ".jl",
   "mimetype": "application/julia",
   "name": "julia",
   "version": "0.6.1"
  }
 },
 "nbformat": 4,
 "nbformat_minor": 2
}
