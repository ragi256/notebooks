{
 "cells": [
  {
   "cell_type": "markdown",
   "metadata": {},
   "source": [
    "# 2次元のデータ\n",
    "\n",
    "## 用語\n",
    "\n",
    "### 2次元のデータとは\n",
    "- 多次元データ multi-dimentional data\n",
    "- 関係 relation\n",
    "- 相関 correlation\n",
    "- 回帰 regression\n",
    "- 多変量解析 multivariate analysis\n",
    "\n",
    "### 散布図と分割表\n",
    "- 散布図 scattergram\n",
    "- 分割表 contingeny table\n",
    " -  表頭、表側\n",
    "- クロス表 cross table\n",
    "\n",
    "### 相関係数\n",
    "- 相関係数 correlation coefficient\n",
    "- 積率相関係数 product moment correlation coefficient\n",
    "- 共分散 covariance\n",
    "\n",
    "- 相関関係 correlation\n",
    "- 因果関係 causality\n",
    "\n",
    "- 見かけ上の相関（擬似相関） spurious correlation\n",
    "- 偏相関係数 partial correlation coefficient\n",
    "\n",
    "- 層別 stratification\n",
    "\n",
    "- 順位 rank\n",
    "- 順位相関係数 rank correlation coefficient\n",
    "\n",
    "- 自己相関係数 auto-correlation coefficient\n",
    "- 系列相関係数 serial correlation coefficient\n",
    "- 季節性 seasonality\n",
    "\n",
    "### 直線および平面のあてはめ\n",
    "- 独立変数 independent variable\n",
    "- 従属変数dependent variable\n",
    "- 最小二乗法 method of least squares\n",
    "- 二乗和 sum of squares\n",
    "\n",
    "- 正規方程式 normal equation\n",
    "- 回帰方程式 regression equation, 回帰直線 regression line\n",
    "- 傾き slope, 偏回帰係数 partial regression coefficient\n",
    "- $y$切片 $y$-intercept\n",
    "\n",
    "- 決定係数 coefficient of determination\n",
    "\n",
    "- 単回帰 simple regression\n",
    "- 重回帰 multiple regression\n",
    "- 価格弾力性 price elasticity\n",
    "- 所得弾力性 income elasticity\n",
    "\n",
    "- 多項式回帰 polynomial regression\n",
    "- 直交多項式 orthogonal polynomial"
   ]
  },
  {
   "cell_type": "markdown",
   "metadata": {},
   "source": [
    "---\n",
    "# ノート"
   ]
  },
  {
   "cell_type": "markdown",
   "metadata": {
    "collapsed": true
   },
   "source": [
    "---\n",
    "# 練習問題"
   ]
  },
  {
   "cell_type": "markdown",
   "metadata": {},
   "source": [
    "## 社会経済指標と投票行動"
   ]
  },
  {
   "cell_type": "markdown",
   "metadata": {},
   "source": [
    "## 統計的な関連"
   ]
  },
  {
   "cell_type": "markdown",
   "metadata": {},
   "source": [
    "## 社会的リスクの順位づけ"
   ]
  },
  {
   "cell_type": "markdown",
   "metadata": {},
   "source": [
    "## ブートストラップ"
   ]
  }
 ],
 "metadata": {
  "kernelspec": {
   "display_name": "Julia 0.6.0",
   "language": "julia",
   "name": "julia-0.6"
  },
  "language_info": {
   "file_extension": ".jl",
   "mimetype": "application/julia",
   "name": "julia",
   "version": "0.6.0"
  }
 },
 "nbformat": 4,
 "nbformat_minor": 2
}
