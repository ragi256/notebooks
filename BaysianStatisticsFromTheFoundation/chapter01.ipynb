{
 "cells": [
  {
   "cell_type": "markdown",
   "metadata": {},
   "source": [
    "# 確立に関するベイズの定理\n",
    "\n",
    "## 用語\n",
    "\n",
    "### 導入\n",
    "\n",
    "- 試行 trial\n",
    "- 事象 event\n",
    "- 標本空間 sample space\n",
    "- 根元事象 fundamental event\n",
    "- 大数の法則 law of large numbers\n",
    "- 頻度論的方法 frequentist method\n",
    "- 客観確率 objective probability\n",
    "- 同時確率 joint probability\n",
    "- 周辺確率 marginal probability\n",
    "- 条件付き確率 conditional probability\n",
    "- 乗法定理 multiplication theorem of probability\n",
    "- 全確率の公式 law of total probability\n",
    "\n",
    "### ベイズの定理\n",
    "- ベイズの定理 Bayes' theorem\n",
    "- 事前確率 prior probability\n",
    "- 事後確率 posterior probability\n",
    "- 逆確率 inverse probability\n",
    "- 独立 independent\n",
    "- ベイズ更新 Baysian updating\n",
    "\n",
    "### 主観確率\n",
    "- 理由不十分の原則 principle of insufficient reason\n",
    "- 私的分析 private analysis\n",
    "- 公的分析 public analysis\n"
   ]
  },
  {
   "cell_type": "markdown",
   "metadata": {},
   "source": [
    "---\n",
    "# ノート\n",
    "\n",
    "## 導入\n",
    "\n",
    "\n",
    "## ベイズの定理\n",
    "\n",
    "### 検診問題\n",
    "1万人あたり40人の割合でかかる病気Aがある。  \n",
    "病気Aにかかっている人が検診Bを受けると8割の確率で陽性となる。健常な人がBを受けると9割の確率で陰性となる。  \n",
    "Bによって陽性と判定された場合その受診者がAにかかっている確率は？  \n",
    "\n",
    "## 主観確率\n",
    "### 碁石問題\n",
    "赤い壺・青い壺・緑の壺があり、中には石がそれぞれ10個入っている。\n",
    "その中に入っている黒い碁石の数はそれぞれ3・4・5個である。\n",
    "壺を1つ選び、その中から碁石を1つ選ぶと黒だった。選んだ壺が赤だった確率は？\n",
    "\n",
    "### 血液鑑定問題\n",
    "殺人事件現場に残された犯人の血液を鑑定した結果Aさんの血液と特徴が一致した。\n",
    "１０万人に1人という高い一致率。Aさんが犯人である確率は？\n",
    "\n"
   ]
  },
  {
   "cell_type": "markdown",
   "metadata": {},
   "source": [
    "---\n",
    "# 章末問題"
   ]
  },
  {
   "cell_type": "markdown",
   "metadata": {},
   "source": [
    "## きょうだい構成は標本空間の分割ではありません。理由を述べなさい"
   ]
  },
  {
   "cell_type": "markdown",
   "metadata": {},
   "source": [
    "## 下記の式が成り立つことを例をあげて示しなさい\n",
    "$$ \\sum^a_{i=1}\\sum^b_{j=1}\\sum^c_{k=1} p(A_i, B_j, C_k)=1 $$\n"
   ]
  },
  {
   "cell_type": "markdown",
   "metadata": {},
   "source": [
    "## 下記の表において$i, j, k$を任意に選び次の式が成り立つ具体例を示しなさい\n",
    "\n",
    "$$ \\sum^a_{i=1} p(A_i, B_j, C_k) = p(B_j, C_k) $$\n",
    "$$ \\sum^a_{i=1}\\sum^b_{j=1} p(A_i, B_j, C_k) = p(C_k) $$\n"
   ]
  },
  {
   "cell_type": "markdown",
   "metadata": {},
   "source": []
  },
  {
   "cell_type": "markdown",
   "metadata": {},
   "source": []
  },
  {
   "cell_type": "markdown",
   "metadata": {},
   "source": []
  },
  {
   "cell_type": "markdown",
   "metadata": {},
   "source": []
  },
  {
   "cell_type": "markdown",
   "metadata": {},
   "source": []
  },
  {
   "cell_type": "markdown",
   "metadata": {},
   "source": []
  },
  {
   "cell_type": "markdown",
   "metadata": {},
   "source": []
  }
 ],
 "metadata": {
  "kernelspec": {
   "display_name": "Julia 0.6.0",
   "language": "julia",
   "name": "julia-0.6"
  },
  "language_info": {
   "file_extension": ".jl",
   "mimetype": "application/julia",
   "name": "julia",
   "version": "0.6.1"
  }
 },
 "nbformat": 4,
 "nbformat_minor": 2
}
