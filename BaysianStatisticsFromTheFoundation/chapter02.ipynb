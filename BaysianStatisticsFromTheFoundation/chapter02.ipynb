{
 "cells": [
  {
   "cell_type": "markdown",
   "metadata": {},
   "source": [
    "# 確率変数と確率分布\n",
    "\n",
    "## 用語\n",
    "\n",
    "### 確率変数\n",
    "- 確率変数 random variable\n",
    "- 実現値　realization\n",
    "- 離散型確率変数 discrete random variable\n",
    "- 確率分布　probability distribution\n",
    "- 期待値 expectation value\n",
    "- 分散 variance\n",
    "- 標準偏差 standard deviation, sd\n",
    "\n",
    "### 離散型確率分布関数\n",
    "- 理論分布 theoretical distribution\n",
    "- ベルヌーイ試行 Bernoulli trial\n",
    "- ベルヌーイ分布 Bernoulli distribution\n",
    "- 確率質量関数 probability mass function, PMF\n",
    "- 母数 parameter\n",
    "- 二項分布 binomial distribution\n",
    "- 累積分布関数 cumluative distribution function, CDF\n",
    "\n",
    "### 連続型確率密度関数\n",
    "- 連続型確率変数 continuous random variable\n",
    "- 確率密度関数 probability density function, PDF\n",
    "- 連続一様分布 continuous uniform distribution\n",
    "- 正規分布 normal distribution\n",
    "- ベータ分布 beta distribution\n",
    "- 標本分布 sample distribution\n",
    "\n",
    "### 最尤推定法\n",
    "- 最尤推定法（最尤法） maximum likelihood estimation, MLE\n",
    "- 尤度 likelihood\n",
    "- 尤度関数 likelihood function\n",
    "- 定数 constant\n",
    "- 対数尤度関数 log likelihood function\n",
    "- 尤度方程式 likelihood equation\n",
    "- 推定値 estimate\n",
    "- 推定量 estimator"
   ]
  },
  {
   "cell_type": "markdown",
   "metadata": {},
   "source": [
    "---\n",
    "# ノート\n",
    "\n",
    "## 確率変数\n",
    "期待値と分散の説明\n",
    "\n",
    "## 離散型確率分布関数\n",
    "### ベルヌイ分布\n",
    "$$ f(x|\\theta) = \\theta^x(1-\\theta)^{1-x}, \\ x=0, 1 $$\n",
    "\n",
    "分布に与える値である$\\theta$は母数と呼ぶ。母数は確率分布を特徴づける数的指標。  \n",
    "ベルヌイ分布において、母数$\\theta$が与えられたときの$x=0$または$x=1$のとき、とりうる値は次の通り。\n",
    "\n",
    "$$ f(x=1|\\theta) = \\theta^1(1-\\theta)^0 = \\theta $$\n",
    "$$ f(x=1|\\theta) = \\theta^0(1-\\theta)^1 = 1-\\theta $$\n",
    "\n",
    "ベルヌイ分布の平均と分散は次の通り。\n",
    "\n",
    "$$ E[X] = \\theta $$\n",
    "$$ V[X] = \\theta (1-\\theta)$$\n",
    "\n",
    "### 二項分布\n",
    "$n$個ベルヌイ試行の和に拡張する。$n$回のベルヌイ試行の和が$x$になる確率は次の通り。この確率分布を2項分布という。\n",
    "\n",
    "$$ f(x|\\theta) = {}_n \\mathrm{C}_x \\theta^x(1-\\theta)^{n-x}$$\n",
    "\n",
    "2項分布の平均と分散は次の通り。\n",
    "\n",
    "$$ E[X] = n\\theta $$\n",
    "$$ V[X] = n\\theta(1-\\theta) $$\n",
    "\n",
    "## 連続型確率密度関数\n",
    "### 一様分布\n",
    "省略\n",
    "\n",
    "### 正規分布\n",
    "正規分布の確率密度関数は母数$\\theta$を$\\theta=(\\mu, \\sigma^2)$として下記の通り。\n",
    "\n",
    "$$f(x|\\mu, \\sigma^2) = \\frac{1}{\\sqrt{2\\pi}\\sigma}\\exp \\biggl[ \\frac{-1}{2\\sigma^2}(x_i-\\mu)^2 \\biggr]$$\n",
    "\n",
    "男性の身長が平均170, 標準偏差7.0の正規分布に従っているとすると165cm以上175cm未満の男性は下式より全体の52.5%と見積もれる。\n",
    "\n",
    "$$F(175) - F(165) = \\int^{175}_{165} f(x|170, 7.0^2) dx \\simeq 0.525$$\n",
    "\n",
    "### ベータ分布\n",
    "範囲0から1までで様々な形状の分布を表現するときはベータ分布を使う。　　\n",
    "ベータ分布の確率密度関数は母数 $\\theta=(p, q)$として下記の通り表される。\n",
    "\n",
    "$$ f(x|p, q) = B(p, q)^{-1}x^{p-1}(1-x)^{q-1}$$\n",
    "\n",
    "平均と分散は下記の通り。\n",
    "\n",
    "$$ E[X] = \\frac{p}{p+1},~V[X] = \\frac{pq}{(p+q)^2(p+q+1)}$$\n",
    "\n",
    "逆に母数を平均と分散で表現しておくと便利である。ただし$r = \\frac{E[X](1-E[X])}{V[X]}-1$。\n",
    "\n",
    "\n",
    "$$ p = rE[X],~q = r(1-E[X]) $$\n",
    "\n",
    "\n",
    "## 最尤推定法\n",
    "多くの場合、母数$\\theta$は未知である。観測データから理論分布の母数を推定するための一般的な方法として**最尤推定法(MLE)**がある。\n",
    "\n",
    "### 二項分布\n",
    "データを定数、母数を変数として計算した値を尤度という。見かけ上は確率関数と同じだが、その関数を尤度関数という。  \n",
    "二項分布の関数式を**xの関数としてみた時が確率、$\\theta$（母数）の関数として観た時が尤度**である。  \n",
    "最尤法では尤度が最も高くなったときの変数の値を母数の推定値として利用する。　　\n",
    "つまり、最尤法は手元のデータが最も観察されやすいような母数の値を推定する方法である。\n",
    "\n",
    "二項分布の式を$\\theta$に関して最大化する。\n",
    "$$ f(x|\\theta) = {}_n \\mathrm{C}_x \\theta^x(1-\\theta)^{n-x}$$\n",
    "\n",
    "直接最大化するのは難しいため対数変換した式、対数尤度関数で最大化をする。\n",
    "\n",
    "$$ \\log f(x|\\theta) = x \\log(\\theta) + (n-x)\\log (1-\\theta) + C$$\n",
    "\n",
    "最大化する方法は母数で微分して0になる方程式、尤度方程式を解く。\n",
    "\n",
    "$$ \\frac{d}{d\\theta} \\log f(x|\\theta) = \\frac{x}{\\theta} - \\frac{n-x}{1-\\theta} = 0$$\n",
    "\n",
    "この方程式を解いた結果 $\\theta = \\frac{x}{n}$が得られる。\n",
    "\n",
    "### 正規分布\n",
    "正規分布における母数、平均$\\mu$と分散$\\sigma$の最尤推定量を求める。  \n",
    "同一の正規分布から標本 $\\pmb{x} =(x_1, x_2, \\dots, x_i, \\dots, x_n)$ が互いに独立に観察されたとする。  \n",
    "独立な確率変数に対する同時分布の式よりこの標本に関する同時分布は下記の通り。\n",
    "\n",
    "$$f(\\pmb{x}|\\mu, \\sigma^2)=\\prod^{n}_{i=1}\\frac{1}{\\sqrt{2\\pi}\\sigma}\\exp \\biggl[ \\frac{-1}{2\\sigma^2}(x_i-\\mu)^2 \\biggr]$$\n",
    "\n",
    "上式に関して対数を取り、それぞれの母数について方程式を解くと、平均と分散の最尤推定量が下記のように得られる。\n",
    "\n",
    "$$\\mu = \\frac{1}{n} \\sum^n_{i=1}x_i ,~ \\sigma^2 = \\frac{1}{n}\\sum^n_{i-1}(x_i-\\mu)^2$$\n",
    "\n",
    "つまり正規分布に関しては標本平均と標本分散が最尤推定値となる。"
   ]
  },
  {
   "cell_type": "markdown",
   "metadata": {},
   "source": [
    "---\n",
    "## 章末問題"
   ]
  },
  {
   "cell_type": "markdown",
   "metadata": {},
   "source": [
    "## 確率変数「3枚のコインを投げたときの表の枚数」の確率分布を示せ"
   ]
  },
  {
   "cell_type": "markdown",
   "metadata": {},
   "source": [
    "## 3枚の過去員を投げたときの表の枚数の期待値を求めよ"
   ]
  },
  {
   "cell_type": "markdown",
   "metadata": {},
   "source": [
    "## 「2枚のコインを投げたときの表の枚数」という確率変数Yの分散を求めよ"
   ]
  },
  {
   "cell_type": "markdown",
   "metadata": {},
   "source": [
    "## 期待値に関する下記の公式を証明せよ\n",
    "1. $E[a] = a$\n",
    "2. $E[X+Y] = E[X] + E[Y]$\n",
    "3. $aE[X] = E[aX]$"
   ]
  },
  {
   "cell_type": "markdown",
   "metadata": {},
   "source": [
    "## 期待値と分散に関する下記の公式を証明せよ"
   ]
  },
  {
   "cell_type": "markdown",
   "metadata": {},
   "source": [
    "## ベルヌイ分布の平均と分散を導け"
   ]
  },
  {
   "cell_type": "markdown",
   "metadata": {},
   "source": [
    "## 2項分布の平均と分散を導け"
   ]
  },
  {
   "cell_type": "markdown",
   "metadata": {},
   "source": [
    "## 2項分布の面積が1になることを示せ"
   ]
  },
  {
   "cell_type": "markdown",
   "metadata": {},
   "source": [
    "## ベータ分布の平均と分散が与えられた時、下記の母数との関係式を導け"
   ]
  },
  {
   "cell_type": "markdown",
   "metadata": {},
   "source": [
    "## 4つの密度関数を書く際に用いたベータ分布関数(p, q)の4つ組を示せ"
   ]
  },
  {
   "cell_type": "markdown",
   "metadata": {},
   "source": [
    "## 期待値を変えずに標準偏差をもっと大きくしたらどうなるか"
   ]
  },
  {
   "cell_type": "markdown",
   "metadata": {},
   "source": [
    "## 確率変数が3つの場合の同時分布の2つの式の意味を例を挙げて説明せよ"
   ]
  },
  {
   "cell_type": "markdown",
   "metadata": {},
   "source": [
    "## 確率変数が3つの場合の周辺分布の2つの式の意味を例を挙げて説明せよ"
   ]
  },
  {
   "cell_type": "markdown",
   "metadata": {},
   "source": [
    "## 2項分布の対数尤度関数式を母数で微分せよ。また方程式を解け。"
   ]
  },
  {
   "cell_type": "markdown",
   "metadata": {},
   "source": [
    "## 正規分布の対数尤度関数を母数で微分せよ。また方程式を解け。"
   ]
  }
 ],
 "metadata": {
  "kernelspec": {
   "display_name": "Julia 0.6.0",
   "language": "julia",
   "name": "julia-0.6"
  },
  "language_info": {
   "file_extension": ".jl",
   "mimetype": "application/julia",
   "name": "julia",
   "version": "0.6.1"
  }
 },
 "nbformat": 4,
 "nbformat_minor": 2
}
