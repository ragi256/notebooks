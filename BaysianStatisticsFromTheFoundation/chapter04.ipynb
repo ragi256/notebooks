{
 "cells": [
  {
   "cell_type": "markdown",
   "metadata": {},
   "source": [
    "# メトロポリス・ヘイスティングス法\n",
    "\n",
    "## 用語\n",
    "\n",
    "### マルコフ連鎖\n",
    "- 確率過程 stochastic process\n",
    "- マルコフ連鎖 Markov chain\n",
    "- 遷移核 transition kernel\n",
    "\n",
    "### 定常分布への収束\n",
    "- 遷移　transition\n",
    "- 定常分布 stationary distribution\n",
    "  - 不変分布 invariant distribution\n",
    "  -　平衡分布 equilibrium distribution\n",
    "- バーンイン burn-in\n",
    "- 既約的 irreducible\n",
    "- 正再帰的 positive recurrent\n",
    "- 非周期的　aperiodic\n",
    "\n",
    "### 詳細釣り合い条件\n",
    "- マルコフ連鎖モンテカルロ法 Markov chain MonteCarlo methods, MCMC\n",
    "- 目標分布 target distribution\n",
    "- 詳細釣り合い条件 detailed balance condition\n",
    "\n",
    "### メトロポリス・ヘイスティングス法\n",
    "- 提案分布　proposal distribution\n",
    "- メトロポリス・ヘイスティングス法　Metropolis-Hastings algorithm\n",
    "\n",
    "### 独立MH法\n",
    "- 独立MH法　independent MH algorithm\n",
    "\n",
    "### ランダムウォークMH法\n",
    "- ランダムウォーク random walk\n",
    "\n",
    "### 生成量・研究仮設が正しい確率\n",
    "-　生成量 generated quantities\n"
   ]
  },
  {
   "cell_type": "markdown",
   "metadata": {},
   "source": [
    "---\n",
    "## ノート"
   ]
  },
  {
   "cell_type": "markdown",
   "metadata": {},
   "source": [
    "---\n",
    "## 章末問題"
   ]
  },
  {
   "cell_type": "markdown",
   "metadata": {},
   "source": []
  },
  {
   "cell_type": "markdown",
   "metadata": {},
   "source": []
  },
  {
   "cell_type": "markdown",
   "metadata": {},
   "source": []
  },
  {
   "cell_type": "markdown",
   "metadata": {},
   "source": []
  },
  {
   "cell_type": "markdown",
   "metadata": {},
   "source": []
  },
  {
   "cell_type": "markdown",
   "metadata": {},
   "source": []
  },
  {
   "cell_type": "markdown",
   "metadata": {},
   "source": []
  }
 ],
 "metadata": {
  "kernelspec": {
   "display_name": "Julia 0.6.0",
   "language": "julia",
   "name": "julia-0.6"
  },
  "language_info": {
   "file_extension": ".jl",
   "mimetype": "application/julia",
   "name": "julia",
   "version": "0.6.1"
  }
 },
 "nbformat": 4,
 "nbformat_minor": 2
}
